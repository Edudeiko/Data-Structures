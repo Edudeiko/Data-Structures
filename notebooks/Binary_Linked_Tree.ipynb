{
 "cells": [
  {
   "cell_type": "code",
   "execution_count": 217,
   "metadata": {},
   "outputs": [],
   "source": [
    "\"\"\"\n",
    "Binary search trees are a data structure that enforce an ordering over \n",
    "the data they store. That ordering in turn makes it a lot more efficient \n",
    "at searching for a particular piece of data in the tree. \n",
    "\n",
    "This part of the project comprises two days:\n",
    "1. Implement the methods `insert`, `contains`, `get_max`, and `for_each`\n",
    "   on the BSTNode class.\n",
    "2. Implement the `in_order_print`, `bft_print`, and `dft_print` methods\n",
    "   on the BSTNode class.\n",
    "\"\"\"\n",
    "class BSTNode:\n",
    "    def __init__(self, value):\n",
    "        self.value = value\n",
    "        self.left = None\n",
    "        self.right = None\n",
    "\n",
    "    # Insert the given value into the tree\n",
    "    def insert(self, value):\n",
    "        # RECURSIVE\n",
    "        if value >= self.value:  # go right (dupes go to the right)\n",
    "            if self.right is None:\n",
    "                self.right = BSTNode(value)\n",
    "                return\n",
    "            else:\n",
    "                return self.right.insert(value) # recursive call\n",
    "        else:\n",
    "            value < self.value\n",
    "            if self.left is None:  # go left\n",
    "                self.left = BSTNode(value)\n",
    "                return\n",
    "            else:\n",
    "                return self.left.insert(value)\n",
    "\n",
    "\n",
    "        # ITERATIVE\n",
    "        # while not at bottom level of tree\n",
    "        # if value < root, go left\n",
    "            # if left child is None\n",
    "                # add here \n",
    "                # exit loop\n",
    "\n",
    "        # if value >= root, go right (dupes go to the right)\n",
    "            # if right child is None\n",
    "                # add here\n",
    "\n",
    "    # Return True if the tree contains the value\n",
    "    # False if it does not\n",
    "    def contains(self, target):\n",
    "        if self.value is target:\n",
    "            return True\n",
    "        \n",
    "        elif target > self.value:\n",
    "            if self.right is None:\n",
    "                return False\n",
    "            else:\n",
    "                return self.right.contains(target)\n",
    "        else:\n",
    "            if self.left is None:\n",
    "                return False\n",
    "            else:\n",
    "                return self.left.contains(target)\n",
    "\n",
    "    # Return the maximum value found in the tree\n",
    "    def get_max(self):\n",
    "        if self.right is None:\n",
    "            return self.value\n",
    "        # go right until you cannot go anymore\n",
    "        else:\n",
    "            return self.right.get_max()\n",
    "        # return value at far right\n",
    "\n",
    "    # Call the function `fn` on the value of each node\n",
    "    def for_each(self, fn):\n",
    "        # one side then the other\n",
    "        if self is not None:\n",
    "            return\n",
    "        fn(self.value)\n",
    "        if self.right:\n",
    "            self.right.for_each(fn)\n",
    "        if self.left:\n",
    "            self.left.for_each(fn)\n",
    "\n",
    "    # Part 2 -----------------------\n",
    "\n",
    "    # Print all the values in order from low to high\n",
    "    # Hint:  Use a recursive, depth first traversal\n",
    "    def in_order_print(self):\n",
    "        pass\n",
    "\n",
    "    # Print the value of every node, starting with the given node,\n",
    "    # in an iterative breadth first traversal\n",
    "    def bft_print(self):\n",
    "        pass\n",
    "\n",
    "    # Print the value of every node, starting with the given node,\n",
    "    # in an iterative depth first traversal\n",
    "    def dft_print(self):\n",
    "        pass\n",
    "\n",
    "    # Stretch Goals -------------------------\n",
    "    # Note: Research may be required\n",
    "\n",
    "    # Print Pre-order recursive DFT\n",
    "    def pre_order_dft(self):\n",
    "        pass\n",
    "\n",
    "    # Print Post-order recursive DFT\n",
    "    def post_order_dft(self):\n",
    "        pass\n"
   ]
  },
  {
   "cell_type": "code",
   "execution_count": 218,
   "metadata": {},
   "outputs": [],
   "source": [
    "\"\"\"\n",
    "This code is necessary for testing the `print` methods\n",
    "\"\"\"\n",
    "bst = BSTNode(1)\n",
    "\n",
    "bst.insert(8)\n",
    "bst.insert(5)\n",
    "bst.insert(7)\n",
    "bst.insert(6)\n",
    "bst.insert(3)\n",
    "bst.insert(4)\n",
    "bst.insert(2)\n",
    "\n",
    "# bst.bft_print()\n",
    "# bst.dft_print()\n",
    "\n",
    "# print(\"elegant methods\")\n",
    "# print(\"pre order\")\n",
    "# bst.pre_order_dft()\n",
    "# print(\"in order\")\n",
    "# bst.in_order_dft()\n",
    "# print(\"post order\")\n",
    "# bst.post_order_dft()"
   ]
  },
  {
   "cell_type": "code",
   "execution_count": 219,
   "metadata": {},
   "outputs": [
    {
     "data": {
      "text/plain": [
       "True"
      ]
     },
     "execution_count": 219,
     "metadata": {},
     "output_type": "execute_result"
    }
   ],
   "source": [
    "bst.contains(3)"
   ]
  },
  {
   "cell_type": "code",
   "execution_count": 220,
   "metadata": {},
   "outputs": [
    {
     "data": {
      "text/plain": [
       "8"
      ]
     },
     "execution_count": 220,
     "metadata": {},
     "output_type": "execute_result"
    }
   ],
   "source": [
    "bst.get_max()"
   ]
  },
  {
   "cell_type": "code",
   "execution_count": 221,
   "metadata": {},
   "outputs": [],
   "source": [
    "bst.insert(101)"
   ]
  },
  {
   "cell_type": "code",
   "execution_count": 222,
   "metadata": {},
   "outputs": [
    {
     "data": {
      "text/plain": [
       "True"
      ]
     },
     "execution_count": 222,
     "metadata": {},
     "output_type": "execute_result"
    }
   ],
   "source": [
    "bst.contains(101)"
   ]
  },
  {
   "cell_type": "code",
   "execution_count": 223,
   "metadata": {},
   "outputs": [
    {
     "data": {
      "text/plain": [
       "101"
      ]
     },
     "execution_count": 223,
     "metadata": {},
     "output_type": "execute_result"
    }
   ],
   "source": [
    "bst.get_max()"
   ]
  },
  {
   "cell_type": "code",
   "execution_count": 224,
   "metadata": {},
   "outputs": [],
   "source": [
    "bst.for_each(10)"
   ]
  },
  {
   "cell_type": "code",
   "execution_count": 225,
   "metadata": {},
   "outputs": [
    {
     "data": {
      "text/plain": [
       "True"
      ]
     },
     "execution_count": 225,
     "metadata": {},
     "output_type": "execute_result"
    }
   ],
   "source": [
    "bst.contains(1)"
   ]
  },
  {
   "cell_type": "code",
   "execution_count": 226,
   "metadata": {},
   "outputs": [
    {
     "data": {
      "text/plain": [
       "True"
      ]
     },
     "execution_count": 226,
     "metadata": {},
     "output_type": "execute_result"
    }
   ],
   "source": [
    "bst.contains(5)"
   ]
  },
  {
   "cell_type": "code",
   "execution_count": 227,
   "metadata": {},
   "outputs": [
    {
     "data": {
      "text/plain": [
       "True"
      ]
     },
     "execution_count": 227,
     "metadata": {},
     "output_type": "execute_result"
    }
   ],
   "source": [
    "bst.contains(101)"
   ]
  },
  {
   "cell_type": "code",
   "execution_count": 228,
   "metadata": {},
   "outputs": [
    {
     "data": {
      "text/plain": [
       "True"
      ]
     },
     "execution_count": 228,
     "metadata": {},
     "output_type": "execute_result"
    }
   ],
   "source": [
    "bst.contains(3)"
   ]
  },
  {
   "cell_type": "code",
   "execution_count": 229,
   "metadata": {},
   "outputs": [
    {
     "data": {
      "text/plain": [
       "False"
      ]
     },
     "execution_count": 229,
     "metadata": {},
     "output_type": "execute_result"
    }
   ],
   "source": [
    "bst.contains(10)"
   ]
  },
  {
   "cell_type": "code",
   "execution_count": null,
   "metadata": {},
   "outputs": [],
   "source": []
  }
 ],
 "metadata": {
  "kernelspec": {
   "display_name": "U4-S1-NLP (Python3)",
   "language": "python",
   "name": "u4-s1-nlp"
  },
  "language_info": {
   "codemirror_mode": {
    "name": "ipython",
    "version": 3
   },
   "file_extension": ".py",
   "mimetype": "text/x-python",
   "name": "python",
   "nbconvert_exporter": "python",
   "pygments_lexer": "ipython3",
   "version": "3.7.0"
  }
 },
 "nbformat": 4,
 "nbformat_minor": 2
}
