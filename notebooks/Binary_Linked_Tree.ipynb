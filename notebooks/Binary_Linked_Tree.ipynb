{
 "cells": [
  {
   "cell_type": "code",
   "execution_count": 145,
   "metadata": {},
   "outputs": [],
   "source": [
    "'''Single Linked List Items'''\n",
    "\n",
    "class Node:\n",
    "    def __init__(self, value):\n",
    "        self.value = value\n",
    "        self.next_node = None\n",
    "        \n",
    "    def get_value(self):\n",
    "        return self.value\n",
    "\n",
    "    def get_next_node(self):\n",
    "        return self.next_node\n",
    "\n",
    "    def set_next_node(self, new_next):\n",
    "        self.next_node = new_next\n",
    "\n",
    "'''Creating single linked List Items'''\n",
    "\n",
    "class LinkedList:\n",
    "    def __init__(self):\n",
    "        self.head = None\n",
    "        self.tail = None\n",
    "        \n",
    "    def traverse_list(self):\n",
    "        # if list is empty it returns 'print'\n",
    "        if self.head is None:\n",
    "            print(\"List has no element\")\n",
    "            return\n",
    "        else:\n",
    "            # otherwise it will print the value\n",
    "            n = self.head\n",
    "            while n is not None:\n",
    "                print(n.value , \" \")\n",
    "                n = n.next_node\n",
    "\n",
    "    \n",
    "    def add_to_head(self, value):\n",
    "        new_node = Node(value)\n",
    "        if self.head is None:\n",
    "            self.head = new_node\n",
    "            self.tail = new_node\n",
    "        else:\n",
    "            new_node.set_next_node(self.head)\n",
    "            self.head = new_node\n",
    "\n",
    "            \n",
    "    def add_to_tail(self, value):\n",
    "        new_node = Node(value)\n",
    "        if self.head is None:\n",
    "            self.head = new_node\n",
    "            self.tail = new_node\n",
    "#             return\n",
    "#         n = self.head\n",
    "#         while n.next_node is not None:\n",
    "#             n = n.next_node\n",
    "#         n.next_node = new_node\n",
    "        else:\n",
    "            self.tail.set_next_node(new_node)\n",
    "            self.tail = new_node\n",
    "        \n",
    "        \n",
    "    def add_after_item(self, x, value):\n",
    "\n",
    "        n = self.head\n",
    "        print(n.next_node)\n",
    "        while n is not None:\n",
    "            if n.value == x:\n",
    "                break\n",
    "            n = n.next_node\n",
    "        if n is None:\n",
    "            print(\"item not in the list\")\n",
    "        else:\n",
    "            new_node = Node(value)\n",
    "            new_node.next_node = n.next_node\n",
    "            n.next_node = new_node\n",
    "            \n",
    "            \n",
    "    def add_before_item(self, x, value):\n",
    "        # check if the list is empty\n",
    "        if self.head is None:\n",
    "            print(\"List has no element\")\n",
    "            return\n",
    "        # check if the element is located at the first index\n",
    "        if x == self.head.value:\n",
    "            new_node = Node(value)\n",
    "            new_node.next_node = self.head\n",
    "            self.head = new_node\n",
    "            return\n",
    "\n",
    "        n = self.head\n",
    "        print(n.next_node)\n",
    "        while n.next_node is not None:\n",
    "            if n.next_node.value == x:\n",
    "                break\n",
    "            n = n.next_node\n",
    "        if n.next_node is None:\n",
    "            print(\"item not in the list\")\n",
    "        else:\n",
    "            new_node = Node(value)\n",
    "            new_node.next_node = n.next_node\n",
    "            n.next_node = new_node\n",
    "            \n",
    "            \n",
    "    def add_at_index(self, index, value):\n",
    "        if index == 1:\n",
    "            new_node = Node(value)\n",
    "            new_node.next_node = self.head\n",
    "            self.head = new_node\n",
    "        i = 1\n",
    "        n = self.head\n",
    "        while i < index-1 and n is not None:\n",
    "            n = n.next_node\n",
    "            i = i+1\n",
    "        if n is None:\n",
    "            print(\"Index out of bound\")\n",
    "        else: \n",
    "            new_node = Node(value)\n",
    "            new_node.next_node = n.next_node\n",
    "            n.next_node = new_node\n",
    "            \n",
    "\n",
    "    def get_count(self):\n",
    "        if self.head is None:\n",
    "            return 0\n",
    "        n = self.head\n",
    "        count = 0\n",
    "        while n is not None:\n",
    "            count = count + 1\n",
    "            n = n.next_node\n",
    "        return count\n",
    "    \n",
    "    \n",
    "    def search_item(self, x):\n",
    "        if self.head is None:\n",
    "            print(\"List has no elements\")\n",
    "            return\n",
    "        n = self.head\n",
    "        while n is not None:\n",
    "            if n.value == x:\n",
    "                print(\"Item found\")\n",
    "                return True\n",
    "            n = n.next_node\n",
    "        print(\"item not found\")\n",
    "        return False\n",
    "\n",
    "\n",
    "    def make_new_list(self):\n",
    "        nums = int(input(\"How many nodes do you want to create: \"))\n",
    "        if nums == 0:\n",
    "            return\n",
    "        for i in range(nums):\n",
    "            value = int(input(\"Enter the value for the node: \"))\n",
    "            self.add_to_tail(value)\n",
    "            \n",
    "\n",
    "#     def remove_head(self):\n",
    "#         if self.head is None:\n",
    "#             print(\"The list has no element to delete\")\n",
    "#             return \n",
    "#         self.head = self.head.next_node\n",
    "\n",
    "    def remove_head(self):\n",
    "        if self.head is None:\n",
    "            return None\n",
    "        else:\n",
    "            if self.head.get_next_node() is None:\n",
    "                h = self.head\n",
    "                self.head = None\n",
    "                self.tail = None\n",
    "                return h.get_value()\n",
    "            value = self.head.get_value()\n",
    "            self.head = self.head.get_next_node()\n",
    "            return value\n",
    "        \n",
    "\n",
    "    def remove_tail(self):\n",
    "        if self.head is None:\n",
    "            print(\"The list has no element to delete\")\n",
    "            return\n",
    "\n",
    "        n = self.head\n",
    "        while n.next_node.next_node is not None:\n",
    "            n = n.next_node\n",
    "        n.next_node = None\n",
    "\n",
    "        \n",
    "    def delete_element_by_value(self, x):\n",
    "        if self.head is None:\n",
    "            print(\"The list has no element to delete\")\n",
    "            return\n",
    "\n",
    "        # Deleting first node \n",
    "        if self.head.value == x:\n",
    "            self.head = self.head.next_node\n",
    "            return\n",
    "\n",
    "        n = self.head\n",
    "        while n.next_node is not None:\n",
    "            if n.next_node.value == x:\n",
    "                break\n",
    "            n = n.next_node\n",
    "\n",
    "        if n.next_node is None:\n",
    "            print(\"item not found in the list\")\n",
    "        else:\n",
    "            n.rnext_nodeef = n.next_node.next_node\n",
    "            \n",
    "            \n",
    "    def reverse_linkedlist(self):\n",
    "        prev = None\n",
    "        n = self.head\n",
    "        while n is not None:\n",
    "            next = n.next_node\n",
    "            n.next_node = prev\n",
    "            prev = n\n",
    "            n = next\n",
    "        self.head = prev"
   ]
  },
  {
   "cell_type": "code",
   "execution_count": 146,
   "metadata": {},
   "outputs": [],
   "source": [
    "class Queue():\n",
    "    def __init__(self):\n",
    "#         super().__init__()\n",
    "        self.size = 0\n",
    "        self.sll = LinkedList()\n",
    "    \n",
    "    def __len__(self):\n",
    "        return self.size\n",
    "\n",
    "    def enqueue(self, value):\n",
    "        self.sll.add_to_tail(value)\n",
    "        self.size += 1\n",
    "\n",
    "    def dequeue(self):\n",
    "        if self.size == 0:\n",
    "            return None\n",
    "        else:\n",
    "            self.size -= 1\n",
    "            return self.sll.remove_head()"
   ]
  },
  {
   "cell_type": "code",
   "execution_count": 147,
   "metadata": {},
   "outputs": [],
   "source": [
    "class Stack(LinkedList):\n",
    "    def __init__(self):\n",
    "        super().__init__()\n",
    "        self.size = 0\n",
    "\n",
    "    def len(self):\n",
    "        return self.size\n",
    "\n",
    "    def push(self, value):\n",
    "        if value != None:\n",
    "            self.add_to_tail(value)\n",
    "            self.size += 1\n",
    "\n",
    "    def pop(self):\n",
    "        try:\n",
    "            value = self.tail.value\n",
    "            self.remove_tail()       \n",
    "            self.size -= 1\n",
    "            return (value)\n",
    "        except:\n",
    "            print('No values to pop')"
   ]
  },
  {
   "cell_type": "code",
   "execution_count": 148,
   "metadata": {},
   "outputs": [],
   "source": [
    "\"\"\"\n",
    "Binary search trees are a data structure that enforce an ordering over \n",
    "the data they store. That ordering in turn makes it a lot more efficient \n",
    "at searching for a particular piece of data in the tree. \n",
    "\n",
    "This part of the project comprises two days:\n",
    "1. Implement the methods `insert`, `contains`, `get_max`, and `for_each`\n",
    "   on the BSTNode class.\n",
    "2. Implement the `in_order_print`, `bft_print`, and `dft_print` methods\n",
    "   on the BSTNode class.\n",
    "\"\"\"\n",
    "\n",
    "\n",
    "class BSTNode:\n",
    "    def __init__(self, value):\n",
    "        self.value = value\n",
    "        self.left = None\n",
    "        self.right = None\n",
    "\n",
    "    # Insert the given value into the tree\n",
    "    def insert(self, value):\n",
    "        # RECURSIVE\n",
    "        if value == self.value:\n",
    "            return f'Value already exist'\n",
    "        if value > self.value:  # go right (dupes go to the right)\n",
    "            if self.right is None:\n",
    "                self.right = BSTNode(value)\n",
    "                return\n",
    "            else:\n",
    "                return self.right.insert(value) # recursive call\n",
    "        else:\n",
    "            value < self.value\n",
    "            if self.left is None:  # go left\n",
    "                self.left = BSTNode(value)\n",
    "                return\n",
    "            else:\n",
    "                return self.left.insert(value)\n",
    "\n",
    "\n",
    "        # ITERATIVE\n",
    "        # while not at bottom level of tree\n",
    "        # if value < root, go left\n",
    "            # if left child is None\n",
    "                # add here \n",
    "                # exit loop\n",
    "\n",
    "        # if value >= root, go right (dupes go to the right)\n",
    "            # if right child is None\n",
    "                # add here\n",
    "\n",
    "    # Return True if the tree contains the value\n",
    "    # False if it does not\n",
    "    def contains(self, target):\n",
    "        if self is None:\n",
    "            return False\n",
    "        if self.value is target:\n",
    "            return True\n",
    "        \n",
    "        elif target > self.value:\n",
    "            if self.right is None:\n",
    "                return False\n",
    "            else:\n",
    "                return self.right.contains(target)\n",
    "        else:\n",
    "            if self.left is None:\n",
    "                return False\n",
    "            else:\n",
    "                return self.left.contains(target)\n",
    "\n",
    "    # Return the maximum value found in the tree\n",
    "    def get_max(self):\n",
    "        if self.right is None:\n",
    "            return self.value\n",
    "        # go right until you cannot go anymore\n",
    "        else:\n",
    "            return self.right.get_max()\n",
    "        # return value at far right\n",
    "\n",
    "    # Call the function `fn` on the value of each node\n",
    "    def for_each(self, fn):\n",
    "        if self.left:\n",
    "            self.left.for_each(fn)\n",
    "        fn(self.value)\n",
    "        if self.right:\n",
    "            self.right.for_each(fn)\n",
    "\n",
    "    # Part 2 -----------------------\n",
    "\n",
    "    # Print all the values in order from low to high\n",
    "    # Hint:  Use a recursive, depth first traversal\n",
    "    def in_order_print(self):\n",
    "        if self.left is not None:\n",
    "            self.left.in_order_print()\n",
    "        print(self.value)\n",
    "        if self.right is not None:\n",
    "            self.right.in_order_print()\n",
    "\n",
    "    # Print the value of every node, starting with the given node,\n",
    "    # in an iterative breadth first traversal\n",
    "    def bft_print(self):\n",
    "        q = Queue()\n",
    "        current = self\n",
    "        q.enqueue(self)\n",
    "        while current:\n",
    "            current = q.dequeue()\n",
    "            if current:\n",
    "                if current.left:\n",
    "                    q.enqueue(current.left)\n",
    "                if current.right:\n",
    "                    q.enqueue(current.right)\n",
    "\n",
    "                print(current.value)\n",
    "\n",
    "    # Print the value of every node, starting with the given node,\n",
    "    # in an iterative depth first traversal\n",
    "    def dft_print(self):\n",
    "        print(self.value)\n",
    "        if self.left is not None:\n",
    "            self.left.dft_print()\n",
    "        if self.right is not None:\n",
    "            self.right.dft_print()\n",
    "\n",
    "    # Stretch Goals -------------------------\n",
    "    # Note: Research may be required\n",
    "\n",
    "    # Print Pre-order recursive DFT\n",
    "    def pre_order_dft(self):\n",
    "        print(self.value)\n",
    "        if self.left is not None:\n",
    "            self.left.pre_order_dft()\n",
    "        if self.right is not None:\n",
    "            self.right.pre_order_dft()\n",
    "\n",
    "    # Print Post-order recursive DFT\n",
    "    def post_order_dft(self):\n",
    "        if self.left is not None:\n",
    "            self.left.post_order_dft()\n",
    "        if self.right is not None:\n",
    "            self.right.post_order_dft()\n",
    "        print(self.value)\n"
   ]
  },
  {
   "cell_type": "code",
   "execution_count": 149,
   "metadata": {},
   "outputs": [
    {
     "name": "stdout",
     "output_type": "stream",
     "text": [
      "bft_print\n",
      "1\n",
      "8\n",
      "5\n",
      "3\n",
      "7\n",
      "2\n",
      "4\n",
      "6\n",
      "dft_print\n",
      "1\n",
      "8\n",
      "5\n",
      "3\n",
      "2\n",
      "4\n",
      "7\n",
      "6\n",
      "elegant methods\n",
      "pre order\n",
      "1\n",
      "8\n",
      "5\n",
      "3\n",
      "2\n",
      "4\n",
      "7\n",
      "6\n",
      "in order\n",
      "1\n",
      "2\n",
      "3\n",
      "4\n",
      "5\n",
      "6\n",
      "7\n",
      "8\n",
      "post order\n",
      "2\n",
      "4\n",
      "3\n",
      "6\n",
      "7\n",
      "5\n",
      "8\n",
      "1\n"
     ]
    }
   ],
   "source": [
    "\"\"\"\n",
    "This code is necessary for testing the `print` methods\n",
    "\"\"\"\n",
    "bst = BSTNode(1)\n",
    "\n",
    "bst.insert(8)\n",
    "bst.insert(5)\n",
    "bst.insert(7)\n",
    "bst.insert(6)\n",
    "bst.insert(3)\n",
    "bst.insert(4)\n",
    "bst.insert(2)\n",
    "print(f'bft_print')\n",
    "bst.bft_print()\n",
    "print(f'dft_print')\n",
    "bst.dft_print()\n",
    "print(\"elegant methods\")\n",
    "print(\"pre order\")\n",
    "bst.pre_order_dft()\n",
    "print(\"in order\")\n",
    "bst.in_order_print()\n",
    "print(\"post order\")\n",
    "bst.post_order_dft()"
   ]
  },
  {
   "cell_type": "code",
   "execution_count": 107,
   "metadata": {},
   "outputs": [
    {
     "data": {
      "text/plain": [
       "True"
      ]
     },
     "execution_count": 107,
     "metadata": {},
     "output_type": "execute_result"
    }
   ],
   "source": [
    "bst.contains(3)"
   ]
  },
  {
   "cell_type": "code",
   "execution_count": 108,
   "metadata": {},
   "outputs": [
    {
     "data": {
      "text/plain": [
       "8"
      ]
     },
     "execution_count": 108,
     "metadata": {},
     "output_type": "execute_result"
    }
   ],
   "source": [
    "bst.get_max()"
   ]
  },
  {
   "cell_type": "code",
   "execution_count": 109,
   "metadata": {},
   "outputs": [],
   "source": [
    "bst.insert(101)"
   ]
  },
  {
   "cell_type": "code",
   "execution_count": 110,
   "metadata": {},
   "outputs": [
    {
     "data": {
      "text/plain": [
       "True"
      ]
     },
     "execution_count": 110,
     "metadata": {},
     "output_type": "execute_result"
    }
   ],
   "source": [
    "bst.contains(101)"
   ]
  },
  {
   "cell_type": "code",
   "execution_count": 111,
   "metadata": {},
   "outputs": [
    {
     "data": {
      "text/plain": [
       "101"
      ]
     },
     "execution_count": 111,
     "metadata": {},
     "output_type": "execute_result"
    }
   ],
   "source": [
    "bst.get_max()"
   ]
  },
  {
   "cell_type": "code",
   "execution_count": 112,
   "metadata": {},
   "outputs": [
    {
     "ename": "TypeError",
     "evalue": "'int' object is not callable",
     "output_type": "error",
     "traceback": [
      "\u001b[0;31m-------------------------------------------------------------------------\u001b[0m",
      "\u001b[0;31mTypeError\u001b[0m                               Traceback (most recent call last)",
      "\u001b[0;32m<ipython-input-112-643ce85c1fd0>\u001b[0m in \u001b[0;36m<module>\u001b[0;34m\u001b[0m\n\u001b[0;32m----> 1\u001b[0;31m \u001b[0mbst\u001b[0m\u001b[0;34m.\u001b[0m\u001b[0mfor_each\u001b[0m\u001b[0;34m(\u001b[0m\u001b[0;36m10\u001b[0m\u001b[0;34m)\u001b[0m\u001b[0;34m\u001b[0m\u001b[0m\n\u001b[0m",
      "\u001b[0;32m<ipython-input-105-3ab0180f756f>\u001b[0m in \u001b[0;36mfor_each\u001b[0;34m(self, fn)\u001b[0m\n\u001b[1;32m     81\u001b[0m         \u001b[0;32mif\u001b[0m \u001b[0mself\u001b[0m\u001b[0;34m.\u001b[0m\u001b[0mleft\u001b[0m\u001b[0;34m:\u001b[0m\u001b[0;34m\u001b[0m\u001b[0m\n\u001b[1;32m     82\u001b[0m             \u001b[0mself\u001b[0m\u001b[0;34m.\u001b[0m\u001b[0mleft\u001b[0m\u001b[0;34m.\u001b[0m\u001b[0mfor_each\u001b[0m\u001b[0;34m(\u001b[0m\u001b[0mfn\u001b[0m\u001b[0;34m)\u001b[0m\u001b[0;34m\u001b[0m\u001b[0m\n\u001b[0;32m---> 83\u001b[0;31m         \u001b[0mfn\u001b[0m\u001b[0;34m(\u001b[0m\u001b[0mself\u001b[0m\u001b[0;34m.\u001b[0m\u001b[0mvalue\u001b[0m\u001b[0;34m)\u001b[0m\u001b[0;34m\u001b[0m\u001b[0m\n\u001b[0m\u001b[1;32m     84\u001b[0m         \u001b[0;32mif\u001b[0m \u001b[0mself\u001b[0m\u001b[0;34m.\u001b[0m\u001b[0mright\u001b[0m\u001b[0;34m:\u001b[0m\u001b[0;34m\u001b[0m\u001b[0m\n\u001b[1;32m     85\u001b[0m             \u001b[0mself\u001b[0m\u001b[0;34m.\u001b[0m\u001b[0mright\u001b[0m\u001b[0;34m.\u001b[0m\u001b[0mfor_each\u001b[0m\u001b[0;34m(\u001b[0m\u001b[0mfn\u001b[0m\u001b[0;34m)\u001b[0m\u001b[0;34m\u001b[0m\u001b[0m\n",
      "\u001b[0;31mTypeError\u001b[0m: 'int' object is not callable"
     ]
    }
   ],
   "source": [
    "bst.for_each(10)"
   ]
  },
  {
   "cell_type": "code",
   "execution_count": 113,
   "metadata": {},
   "outputs": [
    {
     "data": {
      "text/plain": [
       "True"
      ]
     },
     "execution_count": 113,
     "metadata": {},
     "output_type": "execute_result"
    }
   ],
   "source": [
    "bst.contains(1)"
   ]
  },
  {
   "cell_type": "code",
   "execution_count": 114,
   "metadata": {},
   "outputs": [
    {
     "data": {
      "text/plain": [
       "True"
      ]
     },
     "execution_count": 114,
     "metadata": {},
     "output_type": "execute_result"
    }
   ],
   "source": [
    "bst.contains(5)"
   ]
  },
  {
   "cell_type": "code",
   "execution_count": 115,
   "metadata": {},
   "outputs": [
    {
     "data": {
      "text/plain": [
       "True"
      ]
     },
     "execution_count": 115,
     "metadata": {},
     "output_type": "execute_result"
    }
   ],
   "source": [
    "bst.contains(101)"
   ]
  },
  {
   "cell_type": "code",
   "execution_count": 116,
   "metadata": {},
   "outputs": [
    {
     "data": {
      "text/plain": [
       "True"
      ]
     },
     "execution_count": 116,
     "metadata": {},
     "output_type": "execute_result"
    }
   ],
   "source": [
    "bst.contains(3)"
   ]
  },
  {
   "cell_type": "code",
   "execution_count": 117,
   "metadata": {},
   "outputs": [
    {
     "data": {
      "text/plain": [
       "False"
      ]
     },
     "execution_count": 117,
     "metadata": {},
     "output_type": "execute_result"
    }
   ],
   "source": [
    "bst.contains(10)"
   ]
  },
  {
   "cell_type": "code",
   "execution_count": null,
   "metadata": {},
   "outputs": [],
   "source": []
  },
  {
   "cell_type": "code",
   "execution_count": null,
   "metadata": {},
   "outputs": [],
   "source": []
  },
  {
   "cell_type": "code",
   "execution_count": null,
   "metadata": {},
   "outputs": [],
   "source": []
  },
  {
   "cell_type": "code",
   "execution_count": null,
   "metadata": {},
   "outputs": [],
   "source": []
  }
 ],
 "metadata": {
  "kernelspec": {
   "display_name": "U4-S1-NLP (Python3)",
   "language": "python",
   "name": "u4-s1-nlp"
  },
  "language_info": {
   "codemirror_mode": {
    "name": "ipython",
    "version": 3
   },
   "file_extension": ".py",
   "mimetype": "text/x-python",
   "name": "python",
   "nbconvert_exporter": "python",
   "pygments_lexer": "ipython3",
   "version": "3.7.0"
  }
 },
 "nbformat": 4,
 "nbformat_minor": 2
}
