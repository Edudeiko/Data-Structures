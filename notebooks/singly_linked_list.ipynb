{
 "cells": [
  {
   "cell_type": "markdown",
   "metadata": {},
   "source": [
    "## In class"
   ]
  },
  {
   "cell_type": "code",
   "execution_count": null,
   "metadata": {},
   "outputs": [],
   "source": [
    "class Node:\n",
    "    def __init__(self, value, nex_node):\n",
    "        self.value = value\n",
    "        self.next_node = next_node\n",
    "\n",
    "    def get_value(self):\n",
    "        return self.value\n",
    "\n",
    "    def get_next_value(self):\n",
    "        return self.next_mode\n",
    "\n",
    "    def set_next_node(self, new_next):\n",
    "        sel.next_node = new_next\n"
   ]
  },
  {
   "cell_type": "code",
   "execution_count": 7,
   "metadata": {},
   "outputs": [],
   "source": [
    "class LinkedList:\n",
    "    def __init__(self):\n",
    "        self.head = None\n",
    "        self.tail = None\n",
    "        \n",
    "    def add_to_head(self, value):\n",
    "        # create a new Node\n",
    "        new_node = Node(value)\n",
    "        if self.head is None:\n",
    "            # update head & tail attributes\n",
    "            self.head = new_node\n",
    "            self.tail = new_node\n",
    "        else:\n",
    "            # set next_node of my new Node to the head\n",
    "            new_node.set_next_node(self.head)\n",
    "            # Update it's pointer\n",
    "            self.head = new_node\n",
    "\n",
    "\n",
    "    def add_to_tail(self, value):\n",
    "        # create new Node\n",
    "        new_node = Node(value)\n",
    "        # 1. LL is empty\n",
    "        if self.head is None:\n",
    "            # update head & tail attributes\n",
    "            self.head = new_node\n",
    "            self.tail = new_node\n",
    "\n",
    "        # 2. LL is not empty\n",
    "        else:\n",
    "            # update next Node of our tail\n",
    "            self.tail.set_next_node(new_node)\n",
    "            # update self.tail\n",
    "            self.tail = new_node\n",
    "\n",
    "\n",
    "    def remove_head(self):\n",
    "        # cases to consider?\n",
    "        # empty list\n",
    "        if self.head is None:\n",
    "            return None\n",
    "        # else, return VALUE of the old head\n",
    "        else:\n",
    "            ret_value = self.head.get_value()\n",
    "            # List with 1 element\n",
    "            if self.head == self.tail:\n",
    "                self.head = None\n",
    "                self.tail = None\n",
    "            # list with +2 elements\n",
    "            else:\n",
    "                self.head = self.head.get_next_node()\n",
    "            return ret_value\n",
    "\n",
    "\n",
    "    def remove_tail(self):\n",
    "        # empty list?\n",
    "        \n",
    "        \n",
    "        \n",
    "        # list with 1 element?\n",
    "        \n",
    "        \n",
    "        \n",
    "        # list with +2 elements?\n",
    "\n",
    "\n",
    "    def contains(self, value):\n",
    "        # loop through LL until next pointer is None\n",
    "        cur_node = self.head\n",
    "        while cur_node is not None:\n",
    "            # if we find 'value'\n",
    "            if cur_node.get_value() == value:\n",
    "                # return True\n",
    "                return True\n",
    "        return False\n",
    "\n",
    "\n",
    "    def get_max(self):\n",
    "        pass"
   ]
  },
  {
   "cell_type": "markdown",
   "metadata": {},
   "source": [
    "## MVP"
   ]
  },
  {
   "cell_type": "code",
   "execution_count": 8,
   "metadata": {},
   "outputs": [],
   "source": [
    "class Stack:\n",
    "    def __init__(self):\n",
    "        self.size = 0\n",
    "        \n",
    "        \n",
    "    def __len__(self):\n",
    "        pass"
   ]
  },
  {
   "cell_type": "code",
   "execution_count": null,
   "metadata": {},
   "outputs": [],
   "source": []
  }
 ],
 "metadata": {
  "kernelspec": {
   "display_name": "U4-S1-NLP (Python3)",
   "language": "python",
   "name": "u4-s1-nlp"
  },
  "language_info": {
   "codemirror_mode": {
    "name": "ipython",
    "version": 3
   },
   "file_extension": ".py",
   "mimetype": "text/x-python",
   "name": "python",
   "nbconvert_exporter": "python",
   "pygments_lexer": "ipython3",
   "version": "3.7.0"
  }
 },
 "nbformat": 4,
 "nbformat_minor": 2
}
