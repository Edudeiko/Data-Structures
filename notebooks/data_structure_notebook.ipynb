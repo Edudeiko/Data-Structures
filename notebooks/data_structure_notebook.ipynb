{
 "cells": [
  {
   "cell_type": "markdown",
   "metadata": {},
   "source": [
    "# Linked List"
   ]
  },
  {
   "cell_type": "code",
   "execution_count": 342,
   "metadata": {},
   "outputs": [],
   "source": [
    "class Node:\n",
    "    def __init__(self, value):\n",
    "        self.value = value\n",
    "        self.next_node = None\n",
    "\n",
    "#     def get_value(self):\n",
    "#         return self.value\n",
    "\n",
    "#     def get_next_value(self):\n",
    "#         return self.next_mode\n",
    "\n",
    "#     def set_next_node(self, new_next):\n",
    "#         self.next_node = new_next\n"
   ]
  },
  {
   "cell_type": "code",
   "execution_count": 419,
   "metadata": {},
   "outputs": [],
   "source": [
    "'''Creating single linked List Items'''\n",
    "\n",
    "class LinkedList:\n",
    "    def __init__(self):\n",
    "        self.head = None\n",
    "        self.tail = None\n",
    "        \n",
    "    def display(self):\n",
    "        # if list is empty it returns 'print'\n",
    "        if self.head is None:\n",
    "            print(\"List has no element\")\n",
    "            return\n",
    "        else:\n",
    "            # otherwise it will print the value\n",
    "            n = self.head\n",
    "            while n is not None:\n",
    "                print(n.value , \" \")\n",
    "                n = n.next_node\n",
    "\n",
    "    \n",
    "    def add_to_head(self, value):\n",
    "        new_node = Node(value)\n",
    "        new_node.next_node = self.head\n",
    "        self.head = new_node\n",
    "\n",
    "            \n",
    "    def add_to_tail(self, value):\n",
    "        new_node = Node(value)\n",
    "        if self.head is None:\n",
    "            self.head = new_node\n",
    "            return\n",
    "        n = self.head\n",
    "        while n.next_node is not None:\n",
    "            n = n.next_node\n",
    "        n.next_node = new_node\n",
    "        \n",
    "        \n",
    "    def add_after_item(self, x, value):\n",
    "\n",
    "        n = self.head\n",
    "        print(n.next_node)\n",
    "        while n is not None:\n",
    "            if n.value == x:\n",
    "                break\n",
    "            n = n.next_node\n",
    "        if n is None:\n",
    "            print(\"item not in the list\")\n",
    "        else:\n",
    "            new_node = Node(value)\n",
    "            new_node.next_node = n.next_node\n",
    "            n.next_node = new_node\n",
    "            \n",
    "            \n",
    "    def add_before_item(self, x, value):\n",
    "        # check if the list is empty\n",
    "        if self.head is None:\n",
    "            print(\"List has no element\")\n",
    "            return\n",
    "        # check if the element is located at the first index\n",
    "        if x == self.head.value:\n",
    "            new_node = Node(value)\n",
    "            new_node.next_node = self.head\n",
    "            self.head = new_node\n",
    "            return\n",
    "\n",
    "        n = self.head\n",
    "        print(n.next_node)\n",
    "        while n.next_node is not None:\n",
    "            if n.next_node.value == x:\n",
    "                break\n",
    "            n = n.next_node\n",
    "        if n.next_node is None:\n",
    "            print(\"item not in the list\")\n",
    "        else:\n",
    "            new_node = Node(value)\n",
    "            new_node.next_node = n.next_node\n",
    "            n.next_node = new_node\n",
    "            \n",
    "            \n",
    "    def add_at_index(self, index, value):\n",
    "        if index == 1:\n",
    "            new_node = Node(value)\n",
    "            new_node.next_node = self.head\n",
    "            self.head = new_node\n",
    "        i = 1\n",
    "        n = self.head\n",
    "        while i < index-1 and n is not None:\n",
    "            n = n.next_node\n",
    "            i = i+1\n",
    "        if n is None:\n",
    "            print(\"Index out of bound\")\n",
    "        else: \n",
    "            new_node = Node(value)\n",
    "            new_node.next_node = n.next_node\n",
    "            n.next_node = new_node\n",
    "            \n",
    "\n",
    "    def get_count(self):\n",
    "        if self.head is None:\n",
    "            return 0;\n",
    "        n = self.head\n",
    "        count = 0;\n",
    "        while n is not None:\n",
    "            count = count + 1\n",
    "            n = n.next_node\n",
    "        return count\n",
    "    \n",
    "    \n",
    "    def search_item(self, x):\n",
    "        if self.head is None:\n",
    "            print(\"List has no elements\")\n",
    "            return\n",
    "        n = self.head\n",
    "        while n is not None:\n",
    "            if n.value == x:\n",
    "                print(\"Item found\")\n",
    "                return True\n",
    "            n = n.next_node\n",
    "        print(\"item not found\")\n",
    "        return False\n",
    "\n",
    "\n",
    "    def make_new_list(self):\n",
    "        nums = int(input(\"How many nodes do you want to create: \"))\n",
    "        if nums == 0:\n",
    "            return\n",
    "        for i in range(nums):\n",
    "            value = int(input(\"Enter the value for the node: \"))\n",
    "            self.add_to_tail(value)\n",
    "            \n",
    "\n",
    "    def remove_head(self):\n",
    "        if self.head is None:\n",
    "            print(\"The list has no element to delete\")\n",
    "            return \n",
    "        self.head = self.head.next_node\n",
    "        \n",
    "\n",
    "    def remove_tail(self):\n",
    "        if self.head is None:\n",
    "            print(\"The list has no element to delete\")\n",
    "            return\n",
    "\n",
    "        n = self.head\n",
    "        while n.next_node.next_node is not None:\n",
    "            n = n.next_node\n",
    "        n.next_node = None\n",
    "\n",
    "        \n",
    "    def delete_element_by_value(self, x):\n",
    "        if self.head is None:\n",
    "            print(\"The list has no element to delete\")\n",
    "            return\n",
    "\n",
    "        # Deleting first node \n",
    "        if self.head.value == x:\n",
    "            self.head = self.head.next_node\n",
    "            return\n",
    "\n",
    "        n = self.head\n",
    "        while n.next_node is not None:\n",
    "            if n.next_node.value == x:\n",
    "                break\n",
    "            n = n.next_node\n",
    "\n",
    "        if n.next_node is None:\n",
    "            print(\"item not found in the list\")\n",
    "        else:\n",
    "            n.rnext_nodeef = n.next_node.next_node\n",
    "            \n",
    "            \n",
    "    def reverse_linkedlist(self):\n",
    "        prev = None\n",
    "        n = self.head\n",
    "        while n is not None:\n",
    "            next = n.next_node\n",
    "            n.next_node = prev\n",
    "            prev = n\n",
    "            n = next\n",
    "        self.head = prev\n",
    "        "
   ]
  },
  {
   "cell_type": "code",
   "execution_count": 307,
   "metadata": {},
   "outputs": [],
   "source": [
    "my_list = LinkedList()"
   ]
  },
  {
   "cell_type": "code",
   "execution_count": 308,
   "metadata": {},
   "outputs": [
    {
     "name": "stdout",
     "output_type": "stream",
     "text": [
      "How many nodes do you want to create: 5\n",
      "Enter the value for the node: 1\n",
      "Enter the value for the node: 3\n",
      "Enter the value for the node: 5\n",
      "Enter the value for the node: 7\n",
      "Enter the value for the node: 9\n"
     ]
    }
   ],
   "source": [
    "my_list.make_new_list()"
   ]
  },
  {
   "cell_type": "code",
   "execution_count": 309,
   "metadata": {},
   "outputs": [],
   "source": [
    "my_list.delete_at_head()"
   ]
  },
  {
   "cell_type": "code",
   "execution_count": 310,
   "metadata": {},
   "outputs": [],
   "source": [
    "my_list.delete_at_tail()"
   ]
  },
  {
   "cell_type": "code",
   "execution_count": 311,
   "metadata": {},
   "outputs": [
    {
     "name": "stdout",
     "output_type": "stream",
     "text": [
      "item not found in the list\n"
     ]
    }
   ],
   "source": [
    "my_list.delete_element_by_value(10)"
   ]
  },
  {
   "cell_type": "code",
   "execution_count": 321,
   "metadata": {},
   "outputs": [
    {
     "name": "stdout",
     "output_type": "stream",
     "text": [
      "7  \n",
      "5  \n",
      "3  \n",
      "2  \n"
     ]
    }
   ],
   "source": [
    "my_list.display()"
   ]
  },
  {
   "cell_type": "code",
   "execution_count": 320,
   "metadata": {},
   "outputs": [],
   "source": [
    "my_list.reverse_linkedlist()"
   ]
  },
  {
   "cell_type": "code",
   "execution_count": 254,
   "metadata": {},
   "outputs": [
    {
     "name": "stdout",
     "output_type": "stream",
     "text": [
      "<__main__.Node object at 0x7ff48a515748>\n"
     ]
    }
   ],
   "source": [
    "my_list.add_before_item(11, 3)"
   ]
  },
  {
   "cell_type": "code",
   "execution_count": 253,
   "metadata": {},
   "outputs": [
    {
     "name": "stdout",
     "output_type": "stream",
     "text": [
      "<__main__.Node object at 0x7ff48a515748>\n"
     ]
    }
   ],
   "source": [
    "my_list.add_after_item(2, 11)"
   ]
  },
  {
   "cell_type": "code",
   "execution_count": 318,
   "metadata": {},
   "outputs": [],
   "source": [
    "my_list.add_to_head(2)"
   ]
  },
  {
   "cell_type": "code",
   "execution_count": 250,
   "metadata": {},
   "outputs": [],
   "source": [
    "my_list.add_to_head(3)"
   ]
  },
  {
   "cell_type": "code",
   "execution_count": 251,
   "metadata": {},
   "outputs": [],
   "source": [
    "my_list.add_to_tail(7)"
   ]
  },
  {
   "cell_type": "code",
   "execution_count": 255,
   "metadata": {},
   "outputs": [],
   "source": [
    "my_list.add_at_index(3, 15)"
   ]
  },
  {
   "cell_type": "code",
   "execution_count": 256,
   "metadata": {},
   "outputs": [
    {
     "name": "stdout",
     "output_type": "stream",
     "text": [
      "3  \n",
      "2  \n",
      "15  \n",
      "3  \n",
      "11  \n",
      "15  \n",
      "7  \n"
     ]
    }
   ],
   "source": [
    "my_list.display()"
   ]
  },
  {
   "cell_type": "code",
   "execution_count": 257,
   "metadata": {},
   "outputs": [
    {
     "data": {
      "text/plain": [
       "7"
      ]
     },
     "execution_count": 257,
     "metadata": {},
     "output_type": "execute_result"
    }
   ],
   "source": [
    "my_list.get_count()"
   ]
  },
  {
   "cell_type": "code",
   "execution_count": 259,
   "metadata": {},
   "outputs": [
    {
     "name": "stdout",
     "output_type": "stream",
     "text": [
      "Item found\n"
     ]
    },
    {
     "data": {
      "text/plain": [
       "True"
      ]
     },
     "execution_count": 259,
     "metadata": {},
     "output_type": "execute_result"
    }
   ],
   "source": [
    "my_list.search_item(11)"
   ]
  },
  {
   "cell_type": "code",
   "execution_count": null,
   "metadata": {},
   "outputs": [],
   "source": [
    "#     def add_to_head(self, value):\n",
    "#         # create a new Node\n",
    "#         new_node = Node(value)\n",
    "#         if self.head is None:\n",
    "#             # update head & tail attributes\n",
    "#             self.head = new_node\n",
    "#             self.tail = new_node\n",
    "#         else:\n",
    "#             # set next_node of my new Node to the head\n",
    "#             new_node.set_next_node(self.head)\n",
    "#             # Update it's pointer\n",
    "#             self.head = new_node"
   ]
  },
  {
   "cell_type": "code",
   "execution_count": null,
   "metadata": {},
   "outputs": [],
   "source": [
    "#     def add_to_tail(self, value):\n",
    "#         # create new Node\n",
    "#         new_node = Node(value)\n",
    "#         # 1. LL is empty\n",
    "#         if self.head is None:\n",
    "#             # update head & tail attributes\n",
    "#             self.head = new_node\n",
    "#             self.tail = new_node\n",
    "\n",
    "#         # 2. LL is not empty\n",
    "#         else:\n",
    "#             # update next Node of our tail\n",
    "#             self.tail.set_next_node(new_node)\n",
    "#             # update self.tail\n",
    "#             self.tail = new_node"
   ]
  },
  {
   "cell_type": "code",
   "execution_count": null,
   "metadata": {},
   "outputs": [],
   "source": [
    "\n",
    "#     def remove_head(self):\n",
    "#         # cases to consider?\n",
    "#         # empty list\n",
    "#         if self.head is None:\n",
    "#             return None\n",
    "#         # else, return VALUE of the old head\n",
    "#         else:\n",
    "#             ret_value = self.head.get_value()\n",
    "#             # List with 1 element\n",
    "#             if self.head == self.tail:\n",
    "#                 self.head = None\n",
    "#                 self.tail = None\n",
    "#             # list with +2 elements\n",
    "#             else:\n",
    "#                 self.head = self.head.get_next_node()\n",
    "#             return ret_value"
   ]
  },
  {
   "cell_type": "code",
   "execution_count": null,
   "metadata": {},
   "outputs": [],
   "source": [
    "# def remove_tail(self):\n",
    "#         # empty list?\n",
    "#         if self.tail is None:\n",
    "#             return None\n",
    "#         else:\n",
    "#             ret_value = self.tail.get_value()\n",
    "#             # list with 1 element?\n",
    "#             if self.tail == self.head:\n",
    "#                 self.tail = None\n",
    "#                 self.head = None\n",
    "#             # list with +2 elements?\n",
    "#             else:\n",
    "#                 self.tail = self.tail.get_next_node()\n",
    "#             return ret_value"
   ]
  },
  {
   "cell_type": "code",
   "execution_count": null,
   "metadata": {},
   "outputs": [],
   "source": [
    "#     def contains(self, value):\n",
    "#         # loop through LL until next pointer is None\n",
    "#         cur_node = self.head\n",
    "#         while cur_node is not None:\n",
    "#             # if we find 'value'\n",
    "#             if cur_node.get_value() == value:\n",
    "#                 # return True\n",
    "#                 return True\n",
    "#         return False\n",
    "\n",
    "\n",
    "#     def get_max(self):\n",
    "#         pass"
   ]
  },
  {
   "cell_type": "markdown",
   "metadata": {},
   "source": [
    "# Stack"
   ]
  },
  {
   "cell_type": "code",
   "execution_count": 420,
   "metadata": {},
   "outputs": [],
   "source": [
    "class Stack(LinkedList):\n",
    "            \n",
    "    def __init__(self):\n",
    "        super().__init__()\n",
    "        self.size = 0\n",
    "\n",
    "    def len(self):\n",
    "        return self.size\n",
    "\n",
    "\n",
    "    def push(self, value):\n",
    "        self.add_to_tail(value)\n",
    "        self.size += 1\n",
    "\n",
    "\n",
    "    def pop(self):\n",
    "        self.size -= 1        \n",
    "        return self.remove_tail()"
   ]
  },
  {
   "cell_type": "code",
   "execution_count": 400,
   "metadata": {},
   "outputs": [],
   "source": [
    "s = Stack()"
   ]
  },
  {
   "cell_type": "code",
   "execution_count": 401,
   "metadata": {},
   "outputs": [],
   "source": [
    "s.push(1)"
   ]
  },
  {
   "cell_type": "code",
   "execution_count": 402,
   "metadata": {},
   "outputs": [
    {
     "data": {
      "text/plain": [
       "1"
      ]
     },
     "execution_count": 402,
     "metadata": {},
     "output_type": "execute_result"
    }
   ],
   "source": [
    "s.len()"
   ]
  },
  {
   "cell_type": "code",
   "execution_count": 407,
   "metadata": {},
   "outputs": [],
   "source": [
    "s.push(2)"
   ]
  },
  {
   "cell_type": "code",
   "execution_count": 408,
   "metadata": {},
   "outputs": [
    {
     "data": {
      "text/plain": [
       "4"
      ]
     },
     "execution_count": 408,
     "metadata": {},
     "output_type": "execute_result"
    }
   ],
   "source": [
    "s.len()"
   ]
  },
  {
   "cell_type": "code",
   "execution_count": 409,
   "metadata": {},
   "outputs": [],
   "source": [
    "s.pop()"
   ]
  },
  {
   "cell_type": "code",
   "execution_count": 410,
   "metadata": {},
   "outputs": [
    {
     "data": {
      "text/plain": [
       "3"
      ]
     },
     "execution_count": 410,
     "metadata": {},
     "output_type": "execute_result"
    }
   ],
   "source": [
    "s.len()"
   ]
  },
  {
   "cell_type": "code",
   "execution_count": 411,
   "metadata": {},
   "outputs": [],
   "source": [
    "s.push(35)"
   ]
  },
  {
   "cell_type": "code",
   "execution_count": 412,
   "metadata": {},
   "outputs": [
    {
     "data": {
      "text/plain": [
       "4"
      ]
     },
     "execution_count": 412,
     "metadata": {},
     "output_type": "execute_result"
    }
   ],
   "source": [
    "s.len()"
   ]
  },
  {
   "cell_type": "markdown",
   "metadata": {},
   "source": [
    "# Queue"
   ]
  },
  {
   "cell_type": "code",
   "execution_count": 441,
   "metadata": {},
   "outputs": [],
   "source": [
    "class Queue(LinkedList):\n",
    "    def __init__(self):\n",
    "        super().__init__()\n",
    "        self.size = 0\n",
    "\n",
    "\n",
    "    def enqueue(self, value):\n",
    "        if value != None:\n",
    "            self.add_to_tail(value)\n",
    "            self.size += 1\n",
    "\n",
    "    def dequeue(self):\n",
    "            self.size -= 1\n",
    "            return self.remove_head()\n",
    "\n",
    "    def len(self):\n",
    "        return self.size"
   ]
  },
  {
   "cell_type": "code",
   "execution_count": 435,
   "metadata": {},
   "outputs": [],
   "source": [
    "s = Queue()"
   ]
  },
  {
   "cell_type": "code",
   "execution_count": 436,
   "metadata": {},
   "outputs": [
    {
     "data": {
      "text/plain": [
       "<__main__.Queue at 0x7ff48a5b9f98>"
      ]
     },
     "execution_count": 436,
     "metadata": {},
     "output_type": "execute_result"
    }
   ],
   "source": [
    "s"
   ]
  },
  {
   "cell_type": "code",
   "execution_count": 437,
   "metadata": {},
   "outputs": [],
   "source": [
    "s.enqueue(2)"
   ]
  },
  {
   "cell_type": "code",
   "execution_count": 438,
   "metadata": {},
   "outputs": [
    {
     "data": {
      "text/plain": [
       "1"
      ]
     },
     "execution_count": 438,
     "metadata": {},
     "output_type": "execute_result"
    }
   ],
   "source": [
    "s.len()"
   ]
  },
  {
   "cell_type": "code",
   "execution_count": 439,
   "metadata": {},
   "outputs": [],
   "source": [
    "s.dequeue()"
   ]
  },
  {
   "cell_type": "code",
   "execution_count": 440,
   "metadata": {},
   "outputs": [
    {
     "data": {
      "text/plain": [
       "0"
      ]
     },
     "execution_count": 440,
     "metadata": {},
     "output_type": "execute_result"
    }
   ],
   "source": [
    "s.len()"
   ]
  },
  {
   "cell_type": "code",
   "execution_count": null,
   "metadata": {},
   "outputs": [],
   "source": []
  }
 ],
 "metadata": {
  "kernelspec": {
   "display_name": "U4-S1-NLP (Python3)",
   "language": "python",
   "name": "u4-s1-nlp"
  },
  "language_info": {
   "codemirror_mode": {
    "name": "ipython",
    "version": 3
   },
   "file_extension": ".py",
   "mimetype": "text/x-python",
   "name": "python",
   "nbconvert_exporter": "python",
   "pygments_lexer": "ipython3",
   "version": "3.7.0"
  }
 },
 "nbformat": 4,
 "nbformat_minor": 2
}
